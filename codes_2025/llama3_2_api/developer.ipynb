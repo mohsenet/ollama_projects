{
 "cells": [
  {
   "cell_type": "markdown",
   "id": "3e10206a-05f5-456a-9fac-9ae865efdd57",
   "metadata": {},
   "source": [
    "### step_1"
   ]
  },
  {
   "cell_type": "code",
   "execution_count": 1,
   "id": "07286dca-68c8-4ad7-be02-021cc20bb0b5",
   "metadata": {},
   "outputs": [],
   "source": [
    "import requests"
   ]
  },
  {
   "cell_type": "code",
   "execution_count": 5,
   "id": "21c91565-b8e0-4d2a-a660-bd70bc475513",
   "metadata": {},
   "outputs": [],
   "source": [
    "# url = \"http://localhost:11434/api/generate\"\n",
    "# data = {\n",
    "#     \"model\": \"llama3.2:latest\",\n",
    "#     \"prompt\": \"Explain the concept of gravity.\"\n",
    "# }"
   ]
  },
  {
   "cell_type": "code",
   "execution_count": null,
   "id": "fc1fad3f-0790-4fb9-9da3-d4d3c2d8f203",
   "metadata": {},
   "outputs": [],
   "source": [
    "# url = \"http://localhost:11434/api/generate\"\n",
    "# data = {\n",
    "#     \"model\": \"llama3.2:latest\",\n",
    "#     \"prompt\": \"Explain the concept of gravity.\",\n",
    "#     \"temperature\": 0.7,\n",
    "#     \"max_tokens\": 100,\n",
    "#     \"top_p\": 0.9\n",
    "# }"
   ]
  },
  {
   "cell_type": "markdown",
   "id": "c2940eae-f62b-4b74-b813-fd104da18d96",
   "metadata": {},
   "source": [
    "### step_2"
   ]
  },
  {
   "cell_type": "code",
   "execution_count": 2,
   "id": "beacb69d-4e25-4141-9c2e-7ae90df23620",
   "metadata": {},
   "outputs": [],
   "source": [
    "url = \"http://localhost:11434/api/generate\"\n",
    "data = {\n",
    "    \"model\": \"llama3.2:latest\",\n",
    "    \"prompt\": \"How can I write to file with python?\",\n",
    "    \"stream\": False  # Set this to False to disable streaming\n",
    "}"
   ]
  },
  {
   "cell_type": "code",
   "execution_count": 3,
   "id": "01a845fc-9092-4e24-8411-9f2b109a16df",
   "metadata": {},
   "outputs": [],
   "source": [
    "response = requests.post(url, json=data)"
   ]
  },
  {
   "cell_type": "code",
   "execution_count": 4,
   "id": "419c3d04-2d4e-4a9f-b854-a986b1189f2e",
   "metadata": {},
   "outputs": [
    {
     "name": "stdout",
     "output_type": "stream",
     "text": [
      "{'model': 'llama3.2:latest', 'created_at': '2025-02-13T23:26:16.048821464Z', 'response': \"Writing to a File in Python\\n==========================\\n\\nPython provides several ways to write data to a file. Here are a few methods:\\n\\n### Method 1: Using the `open()` function\\n\\nYou can use the `open()` function to open a file and write data to it.\\n\\n```python\\n# Open the file in write mode ('w')\\nwith open('example.txt', 'w') as file:\\n    # Write data to the file\\n    file.write('Hello, world!')\\n```\\n\\nThis will create a new file called `example.txt` if it doesn't exist, and overwrite its contents.\\n\\n### Method 2: Using string formatting\\n\\nYou can use string formatting to write multiple values to the same line in the file.\\n\\n```python\\nname = 'John'\\nage = 30\\nwith open('person_info.txt', 'w') as file:\\n    file.write(f'Name: {name}\\\\nAge: {age}')\\n```\\n\\nThis will create a new file called `person_info.txt` and write the name and age to it.\\n\\n### Method 3: Using the `os` module\\n\\nYou can use the `os` module to write data to a file in a more platform-independent way.\\n\\n```python\\nimport os\\n\\nwith open('example.txt', 'w') as file:\\n    # Write data to the file\\n    file.write(os.linesep.join(['Hello, world!', 'This is a test.']))\\n```\\n\\nThe `os.linesep` variable is used to get the correct line separator for the platform you are on.\\n\\n### Method 4: Using the `json` module\\n\\nYou can use the `json` module to write JSON data to a file.\\n\\n```python\\nimport json\\n\\ndata = {'name': 'John', 'age': 30}\\nwith open('person_info.json', 'w') as file:\\n    # Write the data to the file\\n    json.dump(data, file)\\n```\\n\\nThis will create a new file called `person_info.json` and write the data in JSON format.\\n\\n### Method 5: Using the `csv` module\\n\\nYou can use the `csv` module to write CSV data to a file.\\n\\n```python\\nimport csv\\n\\ndata = [['Name', 'Age'], ['John', 30], ['Jane', 25]]\\nwith open('person_info.csv', 'w', newline='') as file:\\n    # Write the data to the file\\n    writer = csv.writer(file)\\n    writer.writerows(data)\\n```\\n\\nThis will create a new file called `person_info.csv` and write the data in CSV format.\\n\\nBest Practices\\n-------------\\n\\n*   Always use the `'w'` mode when writing to a file, unless you want to append data instead of overwriting it.\\n*   Use the `'with'` statement to ensure that the file is properly closed after you're done with it.\\n*   Always check if the file was opened successfully before trying to write data to it.\\n*   Consider using a try-except block to catch any errors that might occur while writing to the file.\", 'done': True, 'done_reason': 'stop', 'context': [128006, 9125, 128007, 271, 38766, 1303, 33025, 2696, 25, 6790, 220, 2366, 18, 271, 128009, 128006, 882, 128007, 271, 4438, 649, 358, 3350, 311, 1052, 449, 10344, 30, 128009, 128006, 78191, 128007, 271, 40413, 311, 264, 2958, 304, 13325, 198, 1547, 44356, 271, 31380, 5825, 3892, 5627, 311, 3350, 828, 311, 264, 1052, 13, 5810, 527, 264, 2478, 5528, 1473, 14711, 6872, 220, 16, 25, 12362, 279, 1595, 2569, 55358, 734, 271, 2675, 649, 1005, 279, 1595, 2569, 55358, 734, 311, 1825, 264, 1052, 323, 3350, 828, 311, 433, 382, 74694, 12958, 198, 2, 5377, 279, 1052, 304, 3350, 3941, 4417, 86, 1329, 4291, 1825, 493, 8858, 3996, 518, 364, 86, 873, 439, 1052, 512, 262, 674, 9842, 828, 311, 279, 1052, 198, 262, 1052, 3921, 493, 9906, 11, 1917, 37280, 14196, 19884, 2028, 690, 1893, 264, 502, 1052, 2663, 1595, 8858, 3996, 63, 422, 433, 3250, 956, 3073, 11, 323, 33316, 1202, 8970, 382, 14711, 6872, 220, 17, 25, 12362, 925, 37666, 271, 2675, 649, 1005, 925, 37666, 311, 3350, 5361, 2819, 311, 279, 1890, 1584, 304, 279, 1052, 382, 74694, 12958, 198, 609, 284, 364, 13379, 1270, 425, 284, 220, 966, 198, 4291, 1825, 493, 9164, 3186, 3996, 518, 364, 86, 873, 439, 1052, 512, 262, 1052, 3921, 968, 6, 678, 25, 314, 609, 11281, 77, 17166, 25, 314, 425, 33968, 14196, 19884, 2028, 690, 1893, 264, 502, 1052, 2663, 1595, 9164, 3186, 3996, 63, 323, 3350, 279, 836, 323, 4325, 311, 433, 382, 14711, 6872, 220, 18, 25, 12362, 279, 1595, 437, 63, 4793, 271, 2675, 649, 1005, 279, 1595, 437, 63, 4793, 311, 3350, 828, 311, 264, 1052, 304, 264, 810, 5452, 98885, 1648, 382, 74694, 12958, 198, 475, 2709, 271, 4291, 1825, 493, 8858, 3996, 518, 364, 86, 873, 439, 1052, 512, 262, 674, 9842, 828, 311, 279, 1052, 198, 262, 1052, 3921, 9835, 45161, 752, 5563, 6561, 9906, 11, 1917, 39792, 364, 2028, 374, 264, 1296, 13, 20084, 14196, 19884, 791, 1595, 437, 45161, 752, 63, 3977, 374, 1511, 311, 636, 279, 4495, 1584, 25829, 369, 279, 5452, 499, 527, 389, 382, 14711, 6872, 220, 19, 25, 12362, 279, 1595, 2285, 63, 4793, 271, 2675, 649, 1005, 279, 1595, 2285, 63, 4793, 311, 3350, 4823, 828, 311, 264, 1052, 382, 74694, 12958, 198, 475, 3024, 271, 695, 284, 5473, 609, 1232, 364, 13379, 518, 364, 425, 1232, 220, 966, 534, 4291, 1825, 493, 9164, 3186, 4421, 518, 364, 86, 873, 439, 1052, 512, 262, 674, 9842, 279, 828, 311, 279, 1052, 198, 262, 3024, 28026, 2657, 11, 1052, 340, 14196, 19884, 2028, 690, 1893, 264, 502, 1052, 2663, 1595, 9164, 3186, 4421, 63, 323, 3350, 279, 828, 304, 4823, 3645, 382, 14711, 6872, 220, 20, 25, 12362, 279, 1595, 18596, 63, 4793, 271, 2675, 649, 1005, 279, 1595, 18596, 63, 4793, 311, 3350, 28545, 828, 311, 264, 1052, 382, 74694, 12958, 198, 475, 13448, 271, 695, 284, 32927, 678, 518, 364, 17166, 4181, 2570, 13379, 518, 220, 966, 1145, 2570, 63602, 518, 220, 914, 14623, 4291, 1825, 493, 9164, 3186, 11468, 518, 364, 86, 518, 40127, 94714, 439, 1052, 512, 262, 674, 9842, 279, 828, 311, 279, 1052, 198, 262, 7061, 284, 13448, 31932, 4971, 340, 262, 7061, 31932, 4336, 2657, 340, 14196, 19884, 2028, 690, 1893, 264, 502, 1052, 2663, 1595, 9164, 3186, 11468, 63, 323, 3350, 279, 828, 304, 28545, 3645, 382, 14809, 64813, 198, 5272, 10669, 9, 256, 24119, 1005, 279, 74011, 86, 6, 63, 3941, 994, 4477, 311, 264, 1052, 11, 7389, 499, 1390, 311, 8911, 828, 4619, 315, 927, 26372, 433, 627, 9, 256, 5560, 279, 74011, 4291, 6, 63, 5224, 311, 6106, 430, 279, 1052, 374, 10489, 8036, 1306, 499, 2351, 2884, 449, 433, 627, 9, 256, 24119, 1817, 422, 279, 1052, 574, 9107, 7946, 1603, 4560, 311, 3350, 828, 311, 433, 627, 9, 256, 21829, 1701, 264, 1456, 10397, 1512, 2565, 311, 2339, 904, 6103, 430, 2643, 12446, 1418, 4477, 311, 279, 1052, 13], 'total_duration': 388943125990, 'load_duration': 3079011160, 'prompt_eval_count': 34, 'prompt_eval_duration': 3246000000, 'eval_count': 625, 'eval_duration': 382616000000}\n"
     ]
    }
   ],
   "source": [
    "# Check if the request was successful\n",
    "if response.status_code == 200:\n",
    "    try:\n",
    "        # Parse the response as JSON\n",
    "        response_data = response.json()\n",
    "        print(response_data)\n",
    "    except ValueError as e:\n",
    "        print(\"Failed to decode JSON:\", e)\n",
    "else:\n",
    "    print(\"Request failed with status code:\", response.status_code)"
   ]
  },
  {
   "cell_type": "code",
   "execution_count": null,
   "id": "9c924bf9-74a2-435a-92a6-6f4d197473fc",
   "metadata": {},
   "outputs": [],
   "source": []
  },
  {
   "cell_type": "code",
   "execution_count": null,
   "id": "970f54ff-b3ed-4540-801f-32fb973909aa",
   "metadata": {},
   "outputs": [],
   "source": []
  },
  {
   "cell_type": "code",
   "execution_count": 10,
   "id": "e5252ce2-3657-41c0-8150-5f9840ea8d59",
   "metadata": {},
   "outputs": [
    {
     "name": "stdout",
     "output_type": "stream",
     "text": [
      "**Response:**\n",
      "\n",
      "Writing to a File in Python\n",
      "==========================\n",
      "\n",
      "Python provides several ways to write data to a file. Here are a few methods:\n",
      "\n",
      "### Method 1: Using the `open()` function\n",
      "\n",
      "You can use the `open()` function to open a file and write data to it.\n",
      "\n",
      "```python\n",
      "# Open the file in write mode ('w')\n",
      "with open('example.txt', 'w') as file:\n",
      "    # Write data to the file\n",
      "    file.write('Hello, world!')\n",
      "```\n",
      "\n",
      "This will create a new file called `example.txt` if it doesn't exist, and overwrite its contents.\n",
      "\n",
      "### Method 2: Using string formatting\n",
      "\n",
      "You can use string formatting to write multiple values to the same line in the file.\n",
      "\n",
      "```python\n",
      "name = 'John'\n",
      "age = 30\n",
      "with open('person_info.txt', 'w') as file:\n",
      "    file.write(f'Name: {name}\\nAge: {age}')\n",
      "```\n",
      "\n",
      "This will create a new file called `person_info.txt` and write the name and age to it.\n",
      "\n",
      "### Method 3: Using the `os` module\n",
      "\n",
      "You can use the `os` module to write data to a file in a more platform-independent way.\n",
      "\n",
      "```python\n",
      "import os\n",
      "\n",
      "with open('example.txt', 'w') as file:\n",
      "    # Write data to the file\n",
      "    file.write(os.linesep.join(['Hello, world!', 'This is a test.']))\n",
      "```\n",
      "\n",
      "The `os.linesep` variable is used to get the correct line separator for the platform you are on.\n",
      "\n",
      "### Method 4: Using the `json` module\n",
      "\n",
      "You can use the `json` module to write JSON data to a file.\n",
      "\n",
      "```python\n",
      "import json\n",
      "\n",
      "data = {'name': 'John', 'age': 30}\n",
      "with open('person_info.json', 'w') as file:\n",
      "    # Write the data to the file\n",
      "    json.dump(data, file)\n",
      "```\n",
      "\n",
      "This will create a new file called `person_info.json` and write the data in JSON format.\n",
      "\n",
      "### Method 5: Using the `csv` module\n",
      "\n",
      "You can use the `csv` module to write CSV data to a file.\n",
      "\n",
      "```python\n",
      "import csv\n",
      "\n",
      "data = [['Name', 'Age'], ['John', 30], ['Jane', 25]]\n",
      "with open('person_info.csv', 'w', newline='') as file:\n",
      "    # Write the data to the file\n",
      "    writer = csv.writer(file)\n",
      "    writer.writerows(data)\n",
      "```\n",
      "\n",
      "This will create a new file called `person_info.csv` and write the data in CSV format.\n",
      "\n",
      "Best Practices\n",
      "-------------\n",
      "\n",
      "*   Always use the `'w'` mode when writing to a file, unless you want to append data instead of overwriting it.\n",
      "*   Use the `'with'` statement to ensure that the file is properly closed after you're done with it.\n",
      "*   Always check if the file was opened successfully before trying to write data to it.\n",
      "*   Consider using a try-except block to catch any errors that might occur while writing to the file.\n"
     ]
    }
   ],
   "source": [
    "response_text = response_data['response']\n",
    "\n",
    "markdown_text = f\"**Response:**\\n\\n{response_text}\"\n",
    "\n",
    "# Print the Markdown-formatted text\n",
    "print(markdown_text)"
   ]
  },
  {
   "cell_type": "code",
   "execution_count": null,
   "id": "9feabbef-3878-4ad6-b661-ca5e44cec5e4",
   "metadata": {},
   "outputs": [],
   "source": []
  },
  {
   "cell_type": "code",
   "execution_count": null,
   "id": "cf20398b-ae8d-4821-897d-2d5468866894",
   "metadata": {},
   "outputs": [],
   "source": []
  },
  {
   "cell_type": "markdown",
   "id": "01587f16-9a51-4fc1-8747-ee74282514f8",
   "metadata": {},
   "source": [
    "### Show it with jupyter markdown"
   ]
  },
  {
   "cell_type": "markdown",
   "id": "c2b0150b-bc7f-4bd1-8df5-a4ecd961edea",
   "metadata": {},
   "source": [
    "**Response:**\n",
    "\n",
    "Writing to a File in Python\n",
    "==========================\n",
    "\n",
    "Python provides several ways to write data to a file. Here are a few methods:\n",
    "\n",
    "### Method 1: Using the `open()` function\n",
    "\n",
    "You can use the `open()` function to open a file and write data to it.\n",
    "\n",
    "```python\n",
    "# Open the file in write mode ('w')\n",
    "with open('example.txt', 'w') as file:\n",
    "    # Write data to the file\n",
    "    file.write('Hello, world!')\n",
    "```\n",
    "\n",
    "This will create a new file called `example.txt` if it doesn't exist, and overwrite its contents.\n",
    "\n",
    "### Method 2: Using string formatting\n",
    "\n",
    "You can use string formatting to write multiple values to the same line in the file.\n",
    "\n",
    "```python\n",
    "name = 'John'\n",
    "age = 30\n",
    "with open('person_info.txt', 'w') as file:\n",
    "    file.write(f'Name: {name}\\nAge: {age}')\n",
    "```\n",
    "\n",
    "This will create a new file called `person_info.txt` and write the name and age to it.\n",
    "\n",
    "### Method 3: Using the `os` module\n",
    "\n",
    "You can use the `os` module to write data to a file in a more platform-independent way.\n",
    "\n",
    "```python\n",
    "import os\n",
    "\n",
    "with open('example.txt', 'w') as file:\n",
    "    # Write data to the file\n",
    "    file.write(os.linesep.join(['Hello, world!', 'This is a test.']))\n",
    "```\n",
    "\n",
    "The `os.linesep` variable is used to get the correct line separator for the platform you are on.\n",
    "\n",
    "### Method 4: Using the `json` module\n",
    "\n",
    "You can use the `json` module to write JSON data to a file.\n",
    "\n",
    "```python\n",
    "import json\n",
    "\n",
    "data = {'name': 'John', 'age': 30}\n",
    "with open('person_info.json', 'w') as file:\n",
    "    # Write the data to the file\n",
    "    json.dump(data, file)\n",
    "```\n",
    "\n",
    "This will create a new file called `person_info.json` and write the data in JSON format.\n",
    "\n",
    "### Method 5: Using the `csv` module\n",
    "\n",
    "You can use the `csv` module to write CSV data to a file.\n",
    "\n",
    "```python\n",
    "import csv\n",
    "\n",
    "data = [['Name', 'Age'], ['John', 30], ['Jane', 25]]\n",
    "with open('person_info.csv', 'w', newline='') as file:\n",
    "    # Write the data to the file\n",
    "    writer = csv.writer(file)\n",
    "    writer.writerows(data)\n",
    "```\n",
    "\n",
    "This will create a new file called `person_info.csv` and write the data in CSV format.\n",
    "\n",
    "Best Practices\n",
    "-------------\n",
    "\n",
    "*   Always use the `'w'` mode when writing to a file, unless you want to append data instead of overwriting it.\n",
    "*   Use the `'with'` statement to ensure that the file is properly closed after you're done with it.\n",
    "*   Always check if the file was opened successfully before trying to write data to it.\n",
    "*   Consider using a try-except block to catch any errors that might occur while writing to the file."
   ]
  },
  {
   "cell_type": "markdown",
   "id": "19925c8d-47f6-42c4-8309-854b8a9b1f2b",
   "metadata": {},
   "source": [
    "# Also you can viewed with following online makdown \n",
    "https://stackedit.io/app#"
   ]
  },
  {
   "cell_type": "markdown",
   "id": "b239f130-1752-4c27-bc2e-a05a86f406c4",
   "metadata": {},
   "source": [
    "# TODO: use \"qwen2.5-coder\" api\n",
    "https://ollama.com/library/qwen2.5-coder"
   ]
  },
  {
   "cell_type": "code",
   "execution_count": null,
   "id": "6e63abda-44de-4488-94a7-76cadecfce3a",
   "metadata": {},
   "outputs": [],
   "source": []
  }
 ],
 "metadata": {
  "kernelspec": {
   "display_name": "Python 3 (ipykernel)",
   "language": "python",
   "name": "python3"
  },
  "language_info": {
   "codemirror_mode": {
    "name": "ipython",
    "version": 3
   },
   "file_extension": ".py",
   "mimetype": "text/x-python",
   "name": "python",
   "nbconvert_exporter": "python",
   "pygments_lexer": "ipython3",
   "version": "3.10.12"
  }
 },
 "nbformat": 4,
 "nbformat_minor": 5
}
